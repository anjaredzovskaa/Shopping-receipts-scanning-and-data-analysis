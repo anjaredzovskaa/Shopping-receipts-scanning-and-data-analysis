version https://git-lfs.github.com/spec/v1
oid sha256:c6ea9434fab8870a2aa23b0d91ebcc8be36fb2cf293282af3e3e8909fef15bff
size 134782745
